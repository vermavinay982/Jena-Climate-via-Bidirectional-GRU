{
 "cells": [
  {
   "cell_type": "code",
   "execution_count": 12,
   "id": "4e7a7de9",
   "metadata": {},
   "outputs": [],
   "source": [
    "import tensorflow as tf\n",
    "\n",
    "gpus = tf.config.list_physical_devices('GPU')\n",
    "gpu = gpus[0]\n",
    "tf.config.experimental.set_memory_growth(gpu, True)"
   ]
  },
  {
   "cell_type": "code",
   "execution_count": 1,
   "id": "1dcca5c8",
   "metadata": {},
   "outputs": [],
   "source": [
    "import os\n",
    "import numpy as np"
   ]
  },
  {
   "cell_type": "code",
   "execution_count": 5,
   "id": "44df43a9",
   "metadata": {},
   "outputs": [
    {
     "name": "stdout",
     "output_type": "stream",
     "text": [
      "(420451, 14)\n"
     ]
    }
   ],
   "source": [
    "with open('jena_data_float.npy', 'rb') as f:\n",
    "    float_data = np.load(f)\n",
    "    \n",
    "print(float_data.shape)"
   ]
  },
  {
   "cell_type": "code",
   "execution_count": 6,
   "id": "ac8013f4",
   "metadata": {},
   "outputs": [],
   "source": [
    "def generator(data, lookback, delay, min_ix, max_ix, shuffle=False, batch_size=128, step=6):\n",
    "    if max_ix is None:\n",
    "        max_ix = len(data)-delay-1\n",
    "    \n",
    "    i = min_ix + lookback\n",
    "    \n",
    "    while 1:\n",
    "        if shuffle:\n",
    "            rows = np.random.randint(\n",
    "                min_ix+lookback, max_ix, size=batch_size)\n",
    "        else:\n",
    "            if i+batch_size >= max_ix:\n",
    "                i = min_ix + lookback\n",
    "            \n",
    "            rows = np.arange(i, min(i+batch_size, max_ix))\n",
    "            i += len(rows)\n",
    "        \n",
    "        samples = np.zeros((len(rows),\n",
    "                           lookback//step,\n",
    "                           data.shape[-1]))\n",
    "        targets = np.zeros((len(rows),))\n",
    "        \n",
    "        for j,row in enumerate(rows):\n",
    "            indices = range(rows[j]-lookback, rows[j],step)\n",
    "            samples[j] = data[indices]\n",
    "            targets[j] = data[rows[j]+delay][1]\n",
    "        yield samples, targets"
   ]
  },
  {
   "cell_type": "code",
   "execution_count": 7,
   "id": "62aa79b4",
   "metadata": {},
   "outputs": [],
   "source": [
    "lookback = 1440\n",
    "step = 6\n",
    "delay = 144\n",
    "batch_size = 128\n",
    "\n",
    "train_gen = generator(float_data,\n",
    "                      lookback=lookback,\n",
    "                      delay=delay,\n",
    "                      min_ix=0,\n",
    "                      max_ix=200000,\n",
    "                      shuffle=True,\n",
    "                      step=step,\n",
    "                      batch_size=batch_size)\n",
    "\n",
    "val_gen = generator(float_data,\n",
    "                      lookback=lookback,\n",
    "                      delay=delay,\n",
    "                      min_ix=200001,\n",
    "                      max_ix=300000,\n",
    "                      shuffle=True,\n",
    "                      step=step,\n",
    "                      batch_size=batch_size)\n",
    "\n",
    "test_gen = generator(float_data,\n",
    "                      lookback=lookback,\n",
    "                      delay=delay,\n",
    "                      min_ix=300001,\n",
    "                      max_ix=None,\n",
    "                      shuffle=True,\n",
    "                      step=step,\n",
    "                      batch_size=batch_size)\n",
    "\n",
    "val_steps = (300000-200001-lookback)\n",
    "test_steps = (len(float_data) - 300001 - lookback)"
   ]
  },
  {
   "cell_type": "code",
   "execution_count": 18,
   "id": "75e42b87",
   "metadata": {},
   "outputs": [
    {
     "name": "stdout",
     "output_type": "stream",
     "text": [
      "Epoch 1/10\n",
      "500/500 [==============================] - 8s 14ms/step - loss: 0.3335 - val_loss: 0.2687\n",
      "Epoch 2/10\n",
      "500/500 [==============================] - 7s 14ms/step - loss: 0.2871 - val_loss: 0.2662\n",
      "Epoch 3/10\n",
      "500/500 [==============================] - 7s 14ms/step - loss: 0.2806 - val_loss: 0.2656\n",
      "Epoch 4/10\n",
      "500/500 [==============================] - 7s 14ms/step - loss: 0.2775 - val_loss: 0.2660\n",
      "Epoch 5/10\n",
      "500/500 [==============================] - 7s 14ms/step - loss: 0.2696 - val_loss: 0.2653\n",
      "Epoch 6/10\n",
      "500/500 [==============================] - 7s 14ms/step - loss: 0.2678 - val_loss: 0.2793\n",
      "Epoch 7/10\n",
      "500/500 [==============================] - 7s 14ms/step - loss: 0.2640 - val_loss: 0.2677\n",
      "Epoch 8/10\n",
      "500/500 [==============================] - 7s 14ms/step - loss: 0.2595 - val_loss: 0.2677\n",
      "Epoch 9/10\n",
      "500/500 [==============================] - 7s 14ms/step - loss: 0.2560 - val_loss: 0.2754\n",
      "Epoch 10/10\n",
      "500/500 [==============================] - 7s 14ms/step - loss: 0.2529 - val_loss: 0.2692\n"
     ]
    }
   ],
   "source": [
    "from keras.models import Sequential\n",
    "from keras import layers\n",
    "from keras.optimizers import RMSprop\n",
    "\n",
    "model = Sequential()\n",
    "model.add(layers.GRU(32,input_shape=(None, float_data.shape[-1])))\n",
    "model.add(layers.Dense(1))\n",
    "\n",
    "model.compile(optimizer=RMSprop(), loss='mae')\n",
    "history = model.fit(train_gen, steps_per_epoch=500,\n",
    "                    epochs=10, validation_data=val_gen, validation_steps=500)"
   ]
  },
  {
   "cell_type": "code",
   "execution_count": 19,
   "id": "658eefbd",
   "metadata": {},
   "outputs": [],
   "source": [
    "model.save('temp_gru_baseline.h5')"
   ]
  },
  {
   "cell_type": "code",
   "execution_count": 20,
   "id": "081b384d",
   "metadata": {},
   "outputs": [
    {
     "data": {
      "image/png": "[encoded data removed]",
      "text/plain": [
       "<Figure size 432x288 with 1 Axes>"
      ]
     },
     "metadata": {
      "needs_background": "light"
     },
     "output_type": "display_data"
    }
   ],
   "source": [
    "import matplotlib.pyplot as plt\n",
    "\n",
    "loss = history.history[\"loss\"]\n",
    "val_loss = history.history[\"val_loss\"]\n",
    "\n",
    "epochs = range(len(loss))\n",
    "\n",
    "plt.plot(epochs, loss, 'bo', label='training loss')\n",
    "plt.plot(epochs, val_loss, 'b', label='validation loss')\n",
    "plt.legend()\n",
    "plt.show()"
   ]
  },
  {
   "cell_type": "code",
   "execution_count": 17,
   "id": "20b2cddb",
   "metadata": {},
   "outputs": [
    {
     "name": "stdout",
     "output_type": "stream",
     "text": [
      "100/100 [==============================] - 1s 6ms/step - loss: 0.2835\n"
     ]
    },
    {
     "data": {
      "text/plain": [
       "0.28345561027526855"
      ]
     },
     "execution_count": 17,
     "metadata": {},
     "output_type": "execute_result"
    }
   ],
   "source": [
    "model.evaluate(test_gen, steps=100)"
   ]
  },
  {
   "cell_type": "code",
   "execution_count": 21,
   "id": "e7948692",
   "metadata": {},
   "outputs": [
    {
     "name": "stdout",
     "output_type": "stream",
     "text": [
      "100/100 [==============================] - 1s 7ms/step - loss: 0.2862\n"
     ]
    },
    {
     "data": {
      "text/plain": [
       "0.28615111112594604"
      ]
     },
     "execution_count": 21,
     "metadata": {},
     "output_type": "execute_result"
    }
   ],
   "source": [
    "# more training - more steps\n",
    "model.evaluate(test_gen, steps=100)"
   ]
  },
  {
   "cell_type": "code",
   "execution_count": 24,
   "id": "c1fa0163",
   "metadata": {},
   "outputs": [
    {
     "name": "stdout",
     "output_type": "stream",
     "text": [
      "WARNING:tensorflow:Layer gru_3 will not use cuDNN kernel since it doesn't meet the cuDNN kernel criteria. It will use generic GPU kernel as fallback when running on GPU\n",
      "Epoch 1/10\n",
      "50/50 [==============================] - 16s 292ms/step - loss: 0.5433 - val_loss: 0.3043\n",
      "Epoch 2/10\n",
      "50/50 [==============================] - 14s 286ms/step - loss: 0.3341 - val_loss: 0.2972\n",
      "Epoch 3/10\n",
      "50/50 [==============================] - 15s 293ms/step - loss: 0.3319 - val_loss: 0.2802\n",
      "Epoch 4/10\n",
      "50/50 [==============================] - 14s 288ms/step - loss: 0.3177 - val_loss: 0.2893\n",
      "Epoch 5/10\n",
      "50/50 [==============================] - 14s 286ms/step - loss: 0.3264 - val_loss: 0.2903\n",
      "Epoch 6/10\n",
      "50/50 [==============================] - 14s 287ms/step - loss: 0.3130 - val_loss: 0.2786\n",
      "Epoch 7/10\n",
      "50/50 [==============================] - 14s 287ms/step - loss: 0.3097 - val_loss: 0.2782\n",
      "Epoch 8/10\n",
      "50/50 [==============================] - 14s 285ms/step - loss: 0.3108 - val_loss: 0.2767\n",
      "Epoch 9/10\n",
      "50/50 [==============================] - 14s 286ms/step - loss: 0.3071 - val_loss: 0.2746\n",
      "Epoch 10/10\n",
      "50/50 [==============================] - 14s 286ms/step - loss: 0.3139 - val_loss: 0.2783\n"
     ]
    }
   ],
   "source": [
    "\"\"\"\n",
    "dropout\n",
    "recurrent_dropout\n",
    "\"\"\"\n",
    "model = Sequential()\n",
    "model.add(layers.GRU(32, dropout=0.2,\n",
    "                     recurrent_dropout=0.2,\n",
    "                     input_shape=(None, float_data.shape[-1])))\n",
    "model.add(layers.Dense(1))\n",
    "\n",
    "model.compile(optimizer=RMSprop(), loss='mae')\n",
    "history = model.fit(train_gen, steps_per_epoch=50,\n",
    "                    epochs=10, validation_data=val_gen, validation_steps=50)\n"
   ]
  },
  {
   "cell_type": "code",
   "execution_count": 25,
   "id": "64b0c996",
   "metadata": {},
   "outputs": [
    {
     "data": {
      "image/png": "[encoded data removed]",
      "text/plain": [
       "<Figure size 432x288 with 1 Axes>"
      ]
     },
     "metadata": {
      "needs_background": "light"
     },
     "output_type": "display_data"
    }
   ],
   "source": [
    "loss = history.history[\"loss\"]\n",
    "val_loss = history.history[\"val_loss\"]\n",
    "\n",
    "epochs = range(len(loss))\n",
    "\n",
    "plt.plot(epochs, loss, 'bo', label='training loss')\n",
    "plt.plot(epochs, val_loss, 'b', label='validation loss')\n",
    "plt.legend()\n",
    "plt.show()"
   ]
  },
  {
   "cell_type": "markdown",
   "id": "ca38f4cb",
   "metadata": {},
   "source": [
    "```\n",
    "regularization displayed the effect and didnt even let the model to train, forget about overfitting.\n",
    "\n",
    "The validation scores are bad, but training are much worse.\n",
    "\n",
    "Just the scale is changed and looks good, but isnt\n",
    "```\n"
   ]
  },
  {
   "cell_type": "code",
   "execution_count": 26,
   "id": "310be697",
   "metadata": {},
   "outputs": [],
   "source": [
    "model.save('temp_gru_dropouts.h5')"
   ]
  },
  {
   "cell_type": "code",
   "execution_count": 27,
   "id": "c359abc8",
   "metadata": {},
   "outputs": [
    {
     "name": "stdout",
     "output_type": "stream",
     "text": [
      "100/100 [==============================] - 3s 32ms/step - loss: 0.2989\n"
     ]
    },
    {
     "data": {
      "text/plain": [
       "0.29893654584884644"
      ]
     },
     "execution_count": 27,
     "metadata": {},
     "output_type": "execute_result"
    }
   ],
   "source": [
    "model.evaluate(test_gen, steps=100)"
   ]
  },
  {
   "cell_type": "markdown",
   "id": "99532fd4",
   "metadata": {},
   "source": [
    "## Stacking Multiple layers"
   ]
  },
  {
   "cell_type": "code",
   "execution_count": 36,
   "id": "4c980b13",
   "metadata": {},
   "outputs": [
    {
     "name": "stdout",
     "output_type": "stream",
     "text": [
      "Epoch 1/10\n",
      "200/200 [==============================] - 6s 23ms/step - loss: 0.4031 - val_loss: 0.2986\n",
      "Epoch 2/10\n",
      "200/200 [==============================] - 4s 22ms/step - loss: 0.3460 - val_loss: 0.3033\n",
      "Epoch 3/10\n",
      "200/200 [==============================] - 4s 22ms/step - loss: 0.3331 - val_loss: 0.2852\n",
      "Epoch 4/10\n",
      "200/200 [==============================] - 4s 22ms/step - loss: 0.3245 - val_loss: 0.2971\n",
      "Epoch 5/10\n",
      "200/200 [==============================] - 4s 22ms/step - loss: 0.3187 - val_loss: 0.2968\n",
      "Epoch 6/10\n",
      "200/200 [==============================] - 4s 22ms/step - loss: 0.3150 - val_loss: 0.3040\n",
      "Epoch 7/10\n",
      "200/200 [==============================] - 4s 22ms/step - loss: 0.3092 - val_loss: 0.2784\n",
      "Epoch 8/10\n",
      "200/200 [==============================] - 4s 22ms/step - loss: 0.3093 - val_loss: 0.2979\n",
      "Epoch 9/10\n",
      "200/200 [==============================] - 4s 22ms/step - loss: 0.3055 - val_loss: 0.2843\n",
      "Epoch 10/10\n",
      "200/200 [==============================] - 4s 22ms/step - loss: 0.3041 - val_loss: 0.2839\n"
     ]
    }
   ],
   "source": [
    "\"\"\"\n",
    "its not overfitting, maybe bottleneck is there\n",
    "so lets add more layers\n",
    "\"\"\"\n",
    "model = Sequential()\n",
    "model.add(layers.GRU(32, dropout=0.5,\n",
    "                     activation='tanh',\n",
    "                     recurrent_dropout=0,\n",
    "                     return_sequences=True,\n",
    "                     input_shape=(None, float_data.shape[-1])))\n",
    "model.add(layers.GRU(64, activation='tanh',\n",
    "                     dropout=0.5,\n",
    "                     recurrent_dropout=0))\n",
    "model.add(layers.Dense(1))\n",
    "\n",
    "model.compile(optimizer=RMSprop(), loss='mae')\n",
    "history = model.fit(train_gen, steps_per_epoch=200,\n",
    "                    epochs=10, validation_data=val_gen, validation_steps=100)\n"
   ]
  },
  {
   "cell_type": "code",
   "execution_count": 33,
   "id": "2af1c693",
   "metadata": {},
   "outputs": [
    {
     "data": {
      "image/png": "[encoded data removed]",
      "text/plain": [
       "<Figure size 432x288 with 1 Axes>"
      ]
     },
     "metadata": {
      "needs_background": "light"
     },
     "output_type": "display_data"
    }
   ],
   "source": [
    "# trained with more steps - 20 epochs\n",
    "loss = history.history[\"loss\"]\n",
    "val_loss = history.history[\"val_loss\"]\n",
    "\n",
    "epochs = range(len(loss))\n",
    "\n",
    "plt.plot(epochs, loss, 'bo', label='training loss')\n",
    "plt.plot(epochs, val_loss, 'b', label='validation loss')\n",
    "plt.legend()\n",
    "plt.show()"
   ]
  },
  {
   "cell_type": "code",
   "execution_count": 37,
   "id": "9403bdc6",
   "metadata": {},
   "outputs": [
    {
     "data": {
      "image/png": "[encoded data removed]",
      "text/plain": [
       "<Figure size 432x288 with 1 Axes>"
      ]
     },
     "metadata": {
      "needs_background": "light"
     },
     "output_type": "display_data"
    }
   ],
   "source": [
    "# trained with less steps - 10 epochs\n",
    "loss = history.history[\"loss\"]\n",
    "val_loss = history.history[\"val_loss\"]\n",
    "\n",
    "epochs = range(len(loss))\n",
    "\n",
    "plt.plot(epochs, loss, 'bo', label='training loss')\n",
    "plt.plot(epochs, val_loss, 'b', label='validation loss')\n",
    "plt.legend()\n",
    "plt.show()"
   ]
  },
  {
   "cell_type": "code",
   "execution_count": 34,
   "id": "5399a8db",
   "metadata": {},
   "outputs": [],
   "source": [
    "model.save('temp_gru_stacked.h5')"
   ]
  },
  {
   "cell_type": "code",
   "execution_count": 35,
   "id": "62fcd1bc",
   "metadata": {},
   "outputs": [
    {
     "name": "stdout",
     "output_type": "stream",
     "text": [
      "100/100 [==============================] - 1s 8ms/step - loss: 0.3394\n"
     ]
    },
    {
     "data": {
      "text/plain": [
       "0.33937063813209534"
      ]
     },
     "execution_count": 35,
     "metadata": {},
     "output_type": "execute_result"
    }
   ],
   "source": [
    "# 20 epoch\n",
    "model.evaluate(test_gen, steps=100)"
   ]
  },
  {
   "cell_type": "code",
   "execution_count": 39,
   "id": "ccd173e0",
   "metadata": {},
   "outputs": [
    {
     "name": "stdout",
     "output_type": "stream",
     "text": [
      "100/100 [==============================] - 1s 8ms/step - loss: 0.2937\n"
     ]
    },
    {
     "data": {
      "text/plain": [
       "0.2936895489692688"
      ]
     },
     "execution_count": 39,
     "metadata": {},
     "output_type": "execute_result"
    }
   ],
   "source": [
    "# 10 epoch\n",
    "model.evaluate(test_gen, steps=100)"
   ]
  },
  {
   "cell_type": "markdown",
   "id": "3b8a9258",
   "metadata": {},
   "source": [
    "## BiDirectional GRU\n",
    "\n",
    "All predictive capacity must come from chronological half of the network, because the anti-chronological half is known to be severly underperforming on this task.\n",
    "\n",
    "### Recent Past Matters Much More than the Distant Past"
   ]
  },
  {
   "cell_type": "code",
   "execution_count": 40,
   "id": "8b6b25e5",
   "metadata": {},
   "outputs": [
    {
     "name": "stdout",
     "output_type": "stream",
     "text": [
      "Epoch 1/10\n",
      "200/200 [==============================] - 6s 20ms/step - loss: 0.3444 - val_loss: 0.2745\n",
      "Epoch 2/10\n",
      "200/200 [==============================] - 4s 18ms/step - loss: 0.2900 - val_loss: 0.2808\n",
      "Epoch 3/10\n",
      "200/200 [==============================] - 4s 18ms/step - loss: 0.2820 - val_loss: 0.2725\n",
      "Epoch 4/10\n",
      "200/200 [==============================] - 4s 18ms/step - loss: 0.2791 - val_loss: 0.2664\n",
      "Epoch 5/10\n",
      "200/200 [==============================] - 4s 18ms/step - loss: 0.2746 - val_loss: 0.2656\n",
      "Epoch 6/10\n",
      "200/200 [==============================] - 4s 18ms/step - loss: 0.2705 - val_loss: 0.2689\n",
      "Epoch 7/10\n",
      "200/200 [==============================] - 4s 18ms/step - loss: 0.2662 - val_loss: 0.2697\n",
      "Epoch 8/10\n",
      "200/200 [==============================] - 4s 18ms/step - loss: 0.2670 - val_loss: 0.2651\n",
      "Epoch 9/10\n",
      "200/200 [==============================] - 4s 18ms/step - loss: 0.2614 - val_loss: 0.2738\n",
      "Epoch 10/10\n",
      "200/200 [==============================] - 4s 18ms/step - loss: 0.2613 - val_loss: 0.2673\n"
     ]
    }
   ],
   "source": [
    "\"\"\"\n",
    "BiDirectional GRU\n",
    "\"\"\"\n",
    "model = Sequential()\n",
    "\n",
    "model.add(layers.Bidirectional(\n",
    "    layers.GRU(32), \n",
    "    input_shape=(None, float_data.shape[-1])))\n",
    "\n",
    "model.add(layers.Dense(1))\n",
    "\n",
    "model.compile(optimizer=RMSprop(), loss='mae')\n",
    "\n",
    "history = model.fit(train_gen, steps_per_epoch=200,\n",
    "                    epochs=10, validation_data=val_gen, validation_steps=100)"
   ]
  },
  {
   "cell_type": "code",
   "execution_count": 41,
   "id": "0d41cd6a",
   "metadata": {},
   "outputs": [],
   "source": [
    "model.save('temp_bidirectional_gru.h5')"
   ]
  },
  {
   "cell_type": "code",
   "execution_count": 42,
   "id": "6cdad281",
   "metadata": {},
   "outputs": [
    {
     "data": {
      "image/png": "[encoded data removed]",
      "text/plain": [
       "<Figure size 432x288 with 1 Axes>"
      ]
     },
     "metadata": {
      "needs_background": "light"
     },
     "output_type": "display_data"
    }
   ],
   "source": [
    "# trained with less steps - 10 epochs\n",
    "loss = history.history[\"loss\"]\n",
    "val_loss = history.history[\"val_loss\"]\n",
    "\n",
    "epochs = range(len(loss))\n",
    "\n",
    "plt.plot(epochs, loss, 'bo', label='training loss')\n",
    "plt.plot(epochs, val_loss, 'b', label='validation loss')\n",
    "plt.legend()\n",
    "plt.show()"
   ]
  },
  {
   "cell_type": "code",
   "execution_count": 43,
   "id": "c8831b16",
   "metadata": {},
   "outputs": [
    {
     "name": "stdout",
     "output_type": "stream",
     "text": [
      "100/100 [==============================] - 1s 8ms/step - loss: 0.2846\n"
     ]
    },
    {
     "data": {
      "text/plain": [
       "0.2845936715602875"
      ]
     },
     "execution_count": 43,
     "metadata": {},
     "output_type": "execute_result"
    }
   ],
   "source": [
    "model.evaluate(test_gen, steps=100)"
   ]
  }
 ],
 "metadata": {
  "kernelspec": {
   "display_name": "Python 3",
   "language": "python",
   "name": "python3"
  },
  "language_info": {
   "codemirror_mode": {
    "name": "ipython",
    "version": 3
   },
   "file_extension": ".py",
   "mimetype": "text/x-python",
   "name": "python",
   "nbconvert_exporter": "python",
   "pygments_lexer": "ipython3",
   "version": "3.7.10"
  }
 },
 "nbformat": 4,
 "nbformat_minor": 5
}
